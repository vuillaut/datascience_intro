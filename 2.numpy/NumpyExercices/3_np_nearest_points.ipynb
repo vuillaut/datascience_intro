{
 "cells": [
  {
   "cell_type": "markdown",
   "metadata": {
    "slideshow": {
     "slide_type": "slide"
    }
   },
   "source": [
    "# Nearest Points Exercise\n",
    "\n",
    "Tamás Gál (tamas.gal@fau.de)\n",
    "\n",
    "The latest version of this notebook is available at [https://github.com/escape2020/school2021](https://github.com/escape2020/school2021)"
   ]
  },
  {
   "cell_type": "code",
   "execution_count": 1,
   "metadata": {
    "slideshow": {
     "slide_type": "slide"
    }
   },
   "outputs": [
    {
     "name": "stdout",
     "output_type": "stream",
     "text": [
      "Python version:  3.9.12 (main, Mar 26 2022, 15:44:31) \n",
      "[Clang 13.1.6 (clang-1316.0.21.2)]\n",
      "NumPy version:   1.22.4\n"
     ]
    }
   ],
   "source": [
    "import numpy as np\n",
    "import sys\n",
    "\n",
    "print(f\"Python version:  {sys.version}\\n\"\n",
    "      f\"NumPy version:   {np.__version__}\")\n",
    "\n",
    "rng = np.random.default_rng(42)  # initialise our random number generator"
   ]
  },
  {
   "cell_type": "markdown",
   "metadata": {
    "slideshow": {
     "slide_type": "slide"
    }
   },
   "source": [
    "## Given an array of points (in 3D), find the nearest point for each one."
   ]
  },
  {
   "cell_type": "code",
   "execution_count": 2,
   "metadata": {
    "slideshow": {
     "slide_type": "fragment"
    }
   },
   "outputs": [
    {
     "data": {
      "text/plain": [
       "array([[0.77395605, 0.43887844, 0.85859792],\n",
       "       [0.69736803, 0.09417735, 0.97562235],\n",
       "       [0.7611397 , 0.78606431, 0.12811363],\n",
       "       ...,\n",
       "       [0.82221355, 0.64818373, 0.78175705],\n",
       "       [0.42816986, 0.63793674, 0.856229  ],\n",
       "       [0.63106544, 0.34767363, 0.66252959]])"
      ]
     },
     "execution_count": 2,
     "metadata": {},
     "output_type": "execute_result"
    }
   ],
   "source": [
    "N = 500\n",
    "n_dims = 3\n",
    "points = rng.random((N, n_dims))\n",
    "points"
   ]
  }
 ],
 "metadata": {
  "@webio": {
   "lastCommId": "e800f9477722428abc03f280b811860b",
   "lastKernelId": "cc438d68-999a-42f6-91d0-437b70ceb0c8"
  },
  "celltoolbar": "Slideshow",
  "kernelspec": {
   "display_name": "escape2022",
   "language": "python",
   "name": "escape2022"
  },
  "language_info": {
   "codemirror_mode": {
    "name": "ipython",
    "version": 3
   },
   "file_extension": ".py",
   "mimetype": "text/x-python",
   "name": "python",
   "nbconvert_exporter": "python",
   "pygments_lexer": "ipython3",
   "version": "3.9.12"
  }
 },
 "nbformat": 4,
 "nbformat_minor": 4
}
