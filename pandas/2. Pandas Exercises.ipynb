{
 "cells": [
  {
   "cell_type": "markdown",
   "metadata": {
    "slideshow": {
     "slide_type": "slide"
    }
   },
   "source": [
    "# Pandas Exercises\n",
    "\n",
    "Original author: Tamás Gál (tamas.gal@fau.de)\n",
    "\n",
    "Adapted from [https://github.com/escape2020/school2021](https://github.com/escape2020/school2021) under MIT license.\n"
   ]
  },
  {
   "cell_type": "code",
   "execution_count": 1,
   "metadata": {},
   "outputs": [],
   "source": [
    "## If working on Google Colab, uncomment these lines and run the cell\n",
    "\n",
    "# from urllib import request\n",
    "# from pathlib import Path\n",
    "# Path('data').mkdir(exist_ok=True)\n",
    "\n",
    "# request.urlretrieve('https://raw.githubusercontent.com/vuillaut/info801/main/pandas/data/neutrinos.csv',\n",
    "#                    'data/neutrinos.csv',\n",
    "#                    )\n",
    "# request.urlretrieve('https://raw.githubusercontent.com/vuillaut/info801/main/pandas/data/reco.csv',\n",
    "#                    'data/reco.csv',\n",
    "#                    )\n"
   ]
  },
  {
   "cell_type": "code",
   "execution_count": 4,
   "metadata": {
    "slideshow": {
     "slide_type": "slide"
    }
   },
   "outputs": [
    {
     "name": "stdout",
     "output_type": "stream",
     "text": [
      "Python version: 3.10.2 | packaged by conda-forge | (main, Mar  8 2022, 16:02:23) [Clang 11.1.0 ]\n",
      "Pandas version: 1.4.1\n",
      "NumPy version: 1.22.3\n",
      "Matplotlib version: 3.5.1\n",
      "\n"
     ]
    }
   ],
   "source": [
    "%matplotlib inline\n",
    "import pandas as pd\n",
    "import numpy as np\n",
    "# import seaborn as sns\n",
    "import matplotlib as ml\n",
    "import sys\n",
    "plt = ml.pyplot\n",
    "ml.rcParams['figure.figsize'] = (10.0, 5.0)\n",
    "\n",
    "print(f\"Python version: {sys.version}\\n\"\n",
    "      f\"Pandas version: {pd.__version__}\\n\"\n",
    "      f\"NumPy version: {np.__version__}\\n\"\n",
    "      f\"Matplotlib version: {ml.__version__}\\n\"\n",
    "      # f\"seaborn version: {sns.__version__}\",\n",
    "     )"
   ]
  },
  {
   "cell_type": "markdown",
   "metadata": {
    "slideshow": {
     "slide_type": "slide"
    }
   },
   "source": [
    "## Exercise 1\n",
    "\n",
    "Use the `pd.read_csv()` function to create a `DataFrame` from the dataset `data/neutrinos.csv`."
   ]
  },
  {
   "cell_type": "code",
   "execution_count": 5,
   "metadata": {},
   "outputs": [
    {
     "data": {
      "text/html": [
       "<div>\n",
       "<style scoped>\n",
       "    .dataframe tbody tr th:only-of-type {\n",
       "        vertical-align: middle;\n",
       "    }\n",
       "\n",
       "    .dataframe tbody tr th {\n",
       "        vertical-align: top;\n",
       "    }\n",
       "\n",
       "    .dataframe thead th {\n",
       "        text-align: right;\n",
       "    }\n",
       "</style>\n",
       "<table border=\"1\" class=\"dataframe\">\n",
       "  <thead>\n",
       "    <tr style=\"text-align: right;\">\n",
       "      <th></th>\n",
       "      <th>Provided by Moritz Lotze</th>\n",
       "      <th>unformatted by Tamas Gal for teaching purposes</th>\n",
       "      <th>Unnamed: 2</th>\n",
       "    </tr>\n",
       "  </thead>\n",
       "  <tbody>\n",
       "    <tr>\n",
       "      <th>0</th>\n",
       "      <td>Moritz would never hand out such a mess ;)</td>\n",
       "      <td>NaN</td>\n",
       "      <td>NaN</td>\n",
       "    </tr>\n",
       "    <tr>\n",
       "      <th>1</th>\n",
       "      <td>Have fun!</td>\n",
       "      <td>NaN</td>\n",
       "      <td>NaN</td>\n",
       "    </tr>\n",
       "    <tr>\n",
       "      <th>2</th>\n",
       "      <td>$ Column names</td>\n",
       "      <td>NaN</td>\n",
       "      <td>NaN</td>\n",
       "    </tr>\n",
       "    <tr>\n",
       "      <th>3</th>\n",
       "      <td>:azimuth:zenith:bjorkeny:energy:pos_x:pos_y:po...</td>\n",
       "      <td>NaN</td>\n",
       "      <td>NaN</td>\n",
       "    </tr>\n",
       "    <tr>\n",
       "      <th>4</th>\n",
       "      <td>$ Data</td>\n",
       "      <td>NaN</td>\n",
       "      <td>NaN</td>\n",
       "    </tr>\n",
       "    <tr>\n",
       "      <th>5</th>\n",
       "      <td>EOF</td>\n",
       "      <td>NaN</td>\n",
       "      <td>NaN</td>\n",
       "    </tr>\n",
       "  </tbody>\n",
       "</table>\n",
       "</div>"
      ],
      "text/plain": [
       "                            Provided by Moritz Lotze  \\\n",
       "0         Moritz would never hand out such a mess ;)   \n",
       "1                                          Have fun!   \n",
       "2                                     $ Column names   \n",
       "3  :azimuth:zenith:bjorkeny:energy:pos_x:pos_y:po...   \n",
       "4                                             $ Data   \n",
       "5                                                EOF   \n",
       "\n",
       "    unformatted by Tamas Gal for teaching purposes  Unnamed: 2  \n",
       "0                                              NaN         NaN  \n",
       "1                                              NaN         NaN  \n",
       "2                                              NaN         NaN  \n",
       "3                                              NaN         NaN  \n",
       "4                                              NaN         NaN  \n",
       "5                                              NaN         NaN  "
      ]
     },
     "execution_count": 5,
     "metadata": {},
     "output_type": "execute_result"
    }
   ],
   "source": [
    "pd.read_csv('data/neutrinos.csv', engine='python', on_bad_lines='skip')"
   ]
  },
  {
   "cell_type": "markdown",
   "metadata": {
    "slideshow": {
     "slide_type": "slide"
    }
   },
   "source": [
    "## Exercise 2\n",
    "\n",
    "Create a histogram of the neutrino energies."
   ]
  },
  {
   "cell_type": "markdown",
   "metadata": {
    "slideshow": {
     "slide_type": "slide"
    }
   },
   "source": [
    "## Exercise 3\n",
    "\n",
    "Use the `pd.read_csv()` function to create a `DataFrame` from the dataset `data/reco.csv`."
   ]
  },
  {
   "cell_type": "markdown",
   "metadata": {
    "slideshow": {
     "slide_type": "slide"
    }
   },
   "source": [
    "## Exercise 4\n",
    "\n",
    "Combine the `neutrinos` and `reco` `DataFrames`  into a single `DataFrame`\n",
    "\n",
    "pd.concat()"
   ]
  },
  {
   "cell_type": "markdown",
   "metadata": {
    "slideshow": {
     "slide_type": "slide"
    }
   },
   "source": [
    "## Exercise 5\n",
    "\n",
    "Make a scatter plot to visualise the zenith reconstruction quality.\n",
    "\n",
    "`data = pd.concat([neutrinos reco.add_prefix('reco_')], axis=\"columns\")`"
   ]
  },
  {
   "cell_type": "markdown",
   "metadata": {
    "slideshow": {
     "slide_type": "slide"
    }
   },
   "source": [
    "## Exercise 6\n",
    "\n",
    "Create a histogram of the cascade probabilities (__`neutrinos`__ dataset: `proba_cscd` column) for the energy ranges 1-5 GeV, 5-10 GeV, 10-20 GeV and 20-100 GeV."
   ]
  },
  {
   "cell_type": "markdown",
   "metadata": {
    "slideshow": {
     "slide_type": "slide"
    }
   },
   "source": [
    "## Exercise 7\n",
    "\n",
    "Create a 2D histogram showing the distribution of the `x` and `y` values of the starting positions (`pos_x` and `pos_y`) of the neutrinos. This is basically a 2D plane of the starting positions."
   ]
  },
  {
   "cell_type": "markdown",
   "metadata": {
    "slideshow": {
     "slide_type": "slide"
    }
   },
   "source": [
    "## Exercise 8\n",
    "\n",
    "Check out `seaborn` (`import seaborn as sns`) and recreate the 2D histogram from Exercies 7."
   ]
  },
  {
   "cell_type": "markdown",
   "metadata": {
    "slideshow": {
     "slide_type": "slide"
    }
   },
   "source": [
    "## Exercise 9\n",
    "\n",
    "Create two histograms of the `azimuth` and `zenith` distribution side by side, in one plot (two subplots).\n",
    "\n",
    "Try `pandas` built-in matplotlib wrapper and also the raw matplotlib library."
   ]
  },
  {
   "cell_type": "markdown",
   "metadata": {
    "slideshow": {
     "slide_type": "slide"
    }
   },
   "source": [
    "## Exercise 10\n",
    "\n",
    "Split the data into two groups: `upgoing` and `downgoing`, based on the `zenith` value (`zenith == 0` is coming from above).\n",
    "\n",
    "Try out `sns.stripplot` to verify your \"cut\" on the data!"
   ]
  },
  {
   "cell_type": "markdown",
   "metadata": {
    "slideshow": {
     "slide_type": "slide"
    }
   },
   "source": [
    "## Exercise 11\n",
    "\n",
    "Create a combined histogram (two histograms overlayed in the same plot) for both `upgoing` and `downgoing` datasets, showing the `zenith` angle."
   ]
  },
  {
   "cell_type": "markdown",
   "metadata": {
    "slideshow": {
     "slide_type": "slide"
    }
   },
   "source": [
    "## Exercise 12\n",
    "\n",
    "Read a KM3NeT Event File (`data/hits.h5`) and create ToT distributions of the hits for each digital optical module (dom_id) separately."
   ]
  },
  {
   "cell_type": "markdown",
   "metadata": {
    "slideshow": {
     "slide_type": "slide"
    }
   },
   "source": [
    "## Exercise 13\n",
    "\n",
    "Create a histogram of all time differences between consecutive hits calculated on each DOM independently"
   ]
  },
  {
   "cell_type": "markdown",
   "metadata": {
    "slideshow": {
     "slide_type": "slide"
    }
   },
   "source": [
    "## Exercise 14\n",
    "\n",
    "Examine the data for time differences below 50ns"
   ]
  },
  {
   "cell_type": "markdown",
   "metadata": {},
   "source": [
    "## Exercise 15\n",
    "\n",
    "Examine the hits on each PMT of each DOM"
   ]
  }
 ],
 "metadata": {
  "celltoolbar": "Slideshow",
  "kernelspec": {
   "display_name": "Python 3 (ipykernel)",
   "language": "python",
   "name": "python3"
  },
  "language_info": {
   "codemirror_mode": {
    "name": "ipython",
    "version": 3
   },
   "file_extension": ".py",
   "mimetype": "text/x-python",
   "name": "python",
   "nbconvert_exporter": "python",
   "pygments_lexer": "ipython3",
   "version": "3.10.2"
  }
 },
 "nbformat": 4,
 "nbformat_minor": 4
}
